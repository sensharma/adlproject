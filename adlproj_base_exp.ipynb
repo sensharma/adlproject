{
  "nbformat": 4,
  "nbformat_minor": 0,
  "metadata": {
    "colab": {
      "name": "adlproj_base_exp.ipynb",
      "provenance": [],
      "collapsed_sections": [],
      "authorship_tag": "ABX9TyNklK8KFsM9z1EEWoSS7NYT",
      "include_colab_link": true
    },
    "kernelspec": {
      "display_name": "Python 3",
      "name": "python3"
    },
    "widgets": {
      "application/vnd.jupyter.widget-state+json": {
        "74cd171640a549338d5f26ce90b26f46": {
          "model_module": "@jupyter-widgets/controls",
          "model_name": "HBoxModel",
          "state": {
            "_view_name": "HBoxView",
            "_dom_classes": [],
            "_model_name": "HBoxModel",
            "_view_module": "@jupyter-widgets/controls",
            "_model_module_version": "1.5.0",
            "_view_count": null,
            "_view_module_version": "1.5.0",
            "box_style": "",
            "layout": "IPY_MODEL_3b2ea02dcb4f46b99bec34547316deb8",
            "_model_module": "@jupyter-widgets/controls",
            "children": [
              "IPY_MODEL_cee48527197b4b388167ef8b6d1b178f",
              "IPY_MODEL_5e45802fc4b04149b561cd312da95767"
            ]
          }
        },
        "3b2ea02dcb4f46b99bec34547316deb8": {
          "model_module": "@jupyter-widgets/base",
          "model_name": "LayoutModel",
          "state": {
            "_view_name": "LayoutView",
            "grid_template_rows": null,
            "right": null,
            "justify_content": null,
            "_view_module": "@jupyter-widgets/base",
            "overflow": null,
            "_model_module_version": "1.2.0",
            "_view_count": null,
            "flex_flow": null,
            "width": null,
            "min_width": null,
            "border": null,
            "align_items": null,
            "bottom": null,
            "_model_module": "@jupyter-widgets/base",
            "top": null,
            "grid_column": null,
            "overflow_y": null,
            "overflow_x": null,
            "grid_auto_flow": null,
            "grid_area": null,
            "grid_template_columns": null,
            "flex": null,
            "_model_name": "LayoutModel",
            "justify_items": null,
            "grid_row": null,
            "max_height": null,
            "align_content": null,
            "visibility": null,
            "align_self": null,
            "height": null,
            "min_height": null,
            "padding": null,
            "grid_auto_rows": null,
            "grid_gap": null,
            "max_width": null,
            "order": null,
            "_view_module_version": "1.2.0",
            "grid_template_areas": null,
            "object_position": null,
            "object_fit": null,
            "grid_auto_columns": null,
            "margin": null,
            "display": null,
            "left": null
          }
        },
        "cee48527197b4b388167ef8b6d1b178f": {
          "model_module": "@jupyter-widgets/controls",
          "model_name": "FloatProgressModel",
          "state": {
            "_view_name": "ProgressView",
            "style": "IPY_MODEL_0655b112e24b49729fdb5495ed9e2418",
            "_dom_classes": [],
            "description": "100%",
            "_model_name": "FloatProgressModel",
            "bar_style": "success",
            "max": 5,
            "_view_module": "@jupyter-widgets/controls",
            "_model_module_version": "1.5.0",
            "value": 5,
            "_view_count": null,
            "_view_module_version": "1.5.0",
            "orientation": "horizontal",
            "min": 0,
            "description_tooltip": null,
            "_model_module": "@jupyter-widgets/controls",
            "layout": "IPY_MODEL_fb4c1145b9ce4d119f409f17ad0d8d9a"
          }
        },
        "5e45802fc4b04149b561cd312da95767": {
          "model_module": "@jupyter-widgets/controls",
          "model_name": "HTMLModel",
          "state": {
            "_view_name": "HTMLView",
            "style": "IPY_MODEL_14ace953d54d4efa9e50b40ced454a51",
            "_dom_classes": [],
            "description": "",
            "_model_name": "HTMLModel",
            "placeholder": "​",
            "_view_module": "@jupyter-widgets/controls",
            "_model_module_version": "1.5.0",
            "value": " 5/5 [00:56&lt;00:00, 11.23s/it]",
            "_view_count": null,
            "_view_module_version": "1.5.0",
            "description_tooltip": null,
            "_model_module": "@jupyter-widgets/controls",
            "layout": "IPY_MODEL_5714afd4113f4322be8275f0fe85af23"
          }
        },
        "0655b112e24b49729fdb5495ed9e2418": {
          "model_module": "@jupyter-widgets/controls",
          "model_name": "ProgressStyleModel",
          "state": {
            "_view_name": "StyleView",
            "_model_name": "ProgressStyleModel",
            "description_width": "initial",
            "_view_module": "@jupyter-widgets/base",
            "_model_module_version": "1.5.0",
            "_view_count": null,
            "_view_module_version": "1.2.0",
            "bar_color": null,
            "_model_module": "@jupyter-widgets/controls"
          }
        },
        "fb4c1145b9ce4d119f409f17ad0d8d9a": {
          "model_module": "@jupyter-widgets/base",
          "model_name": "LayoutModel",
          "state": {
            "_view_name": "LayoutView",
            "grid_template_rows": null,
            "right": null,
            "justify_content": null,
            "_view_module": "@jupyter-widgets/base",
            "overflow": null,
            "_model_module_version": "1.2.0",
            "_view_count": null,
            "flex_flow": null,
            "width": null,
            "min_width": null,
            "border": null,
            "align_items": null,
            "bottom": null,
            "_model_module": "@jupyter-widgets/base",
            "top": null,
            "grid_column": null,
            "overflow_y": null,
            "overflow_x": null,
            "grid_auto_flow": null,
            "grid_area": null,
            "grid_template_columns": null,
            "flex": null,
            "_model_name": "LayoutModel",
            "justify_items": null,
            "grid_row": null,
            "max_height": null,
            "align_content": null,
            "visibility": null,
            "align_self": null,
            "height": null,
            "min_height": null,
            "padding": null,
            "grid_auto_rows": null,
            "grid_gap": null,
            "max_width": null,
            "order": null,
            "_view_module_version": "1.2.0",
            "grid_template_areas": null,
            "object_position": null,
            "object_fit": null,
            "grid_auto_columns": null,
            "margin": null,
            "display": null,
            "left": null
          }
        },
        "14ace953d54d4efa9e50b40ced454a51": {
          "model_module": "@jupyter-widgets/controls",
          "model_name": "DescriptionStyleModel",
          "state": {
            "_view_name": "StyleView",
            "_model_name": "DescriptionStyleModel",
            "description_width": "",
            "_view_module": "@jupyter-widgets/base",
            "_model_module_version": "1.5.0",
            "_view_count": null,
            "_view_module_version": "1.2.0",
            "_model_module": "@jupyter-widgets/controls"
          }
        },
        "5714afd4113f4322be8275f0fe85af23": {
          "model_module": "@jupyter-widgets/base",
          "model_name": "LayoutModel",
          "state": {
            "_view_name": "LayoutView",
            "grid_template_rows": null,
            "right": null,
            "justify_content": null,
            "_view_module": "@jupyter-widgets/base",
            "overflow": null,
            "_model_module_version": "1.2.0",
            "_view_count": null,
            "flex_flow": null,
            "width": null,
            "min_width": null,
            "border": null,
            "align_items": null,
            "bottom": null,
            "_model_module": "@jupyter-widgets/base",
            "top": null,
            "grid_column": null,
            "overflow_y": null,
            "overflow_x": null,
            "grid_auto_flow": null,
            "grid_area": null,
            "grid_template_columns": null,
            "flex": null,
            "_model_name": "LayoutModel",
            "justify_items": null,
            "grid_row": null,
            "max_height": null,
            "align_content": null,
            "visibility": null,
            "align_self": null,
            "height": null,
            "min_height": null,
            "padding": null,
            "grid_auto_rows": null,
            "grid_gap": null,
            "max_width": null,
            "order": null,
            "_view_module_version": "1.2.0",
            "grid_template_areas": null,
            "object_position": null,
            "object_fit": null,
            "grid_auto_columns": null,
            "margin": null,
            "display": null,
            "left": null
          }
        },
        "f52f28e12ee7444e8545b54aab8a107b": {
          "model_module": "@jupyter-widgets/controls",
          "model_name": "HBoxModel",
          "state": {
            "_view_name": "HBoxView",
            "_dom_classes": [],
            "_model_name": "HBoxModel",
            "_view_module": "@jupyter-widgets/controls",
            "_model_module_version": "1.5.0",
            "_view_count": null,
            "_view_module_version": "1.5.0",
            "box_style": "",
            "layout": "IPY_MODEL_bd4ac676af31477cb15a8227b0f13f9d",
            "_model_module": "@jupyter-widgets/controls",
            "children": [
              "IPY_MODEL_7761ba2d7ba9420cb2e52a07fdbf3b52",
              "IPY_MODEL_78d9793ba1344914a4bf00ef6c5dac93"
            ]
          }
        },
        "bd4ac676af31477cb15a8227b0f13f9d": {
          "model_module": "@jupyter-widgets/base",
          "model_name": "LayoutModel",
          "state": {
            "_view_name": "LayoutView",
            "grid_template_rows": null,
            "right": null,
            "justify_content": null,
            "_view_module": "@jupyter-widgets/base",
            "overflow": null,
            "_model_module_version": "1.2.0",
            "_view_count": null,
            "flex_flow": null,
            "width": null,
            "min_width": null,
            "border": null,
            "align_items": null,
            "bottom": null,
            "_model_module": "@jupyter-widgets/base",
            "top": null,
            "grid_column": null,
            "overflow_y": null,
            "overflow_x": null,
            "grid_auto_flow": null,
            "grid_area": null,
            "grid_template_columns": null,
            "flex": null,
            "_model_name": "LayoutModel",
            "justify_items": null,
            "grid_row": null,
            "max_height": null,
            "align_content": null,
            "visibility": null,
            "align_self": null,
            "height": null,
            "min_height": null,
            "padding": null,
            "grid_auto_rows": null,
            "grid_gap": null,
            "max_width": null,
            "order": null,
            "_view_module_version": "1.2.0",
            "grid_template_areas": null,
            "object_position": null,
            "object_fit": null,
            "grid_auto_columns": null,
            "margin": null,
            "display": null,
            "left": null
          }
        },
        "7761ba2d7ba9420cb2e52a07fdbf3b52": {
          "model_module": "@jupyter-widgets/controls",
          "model_name": "FloatProgressModel",
          "state": {
            "_view_name": "ProgressView",
            "style": "IPY_MODEL_9c407a7e7b444c3a94d54476f3dfb431",
            "_dom_classes": [],
            "description": "100%",
            "_model_name": "FloatProgressModel",
            "bar_style": "success",
            "max": 50,
            "_view_module": "@jupyter-widgets/controls",
            "_model_module_version": "1.5.0",
            "value": 50,
            "_view_count": null,
            "_view_module_version": "1.5.0",
            "orientation": "horizontal",
            "min": 0,
            "description_tooltip": null,
            "_model_module": "@jupyter-widgets/controls",
            "layout": "IPY_MODEL_a2b31242eb1c48b9ae94183c646fd34f"
          }
        },
        "78d9793ba1344914a4bf00ef6c5dac93": {
          "model_module": "@jupyter-widgets/controls",
          "model_name": "HTMLModel",
          "state": {
            "_view_name": "HTMLView",
            "style": "IPY_MODEL_e4037bc7670f44d7ba8de75f692bc316",
            "_dom_classes": [],
            "description": "",
            "_model_name": "HTMLModel",
            "placeholder": "​",
            "_view_module": "@jupyter-widgets/controls",
            "_model_module_version": "1.5.0",
            "value": " 50/50 [1:11:16&lt;00:00, 85.52s/it]",
            "_view_count": null,
            "_view_module_version": "1.5.0",
            "description_tooltip": null,
            "_model_module": "@jupyter-widgets/controls",
            "layout": "IPY_MODEL_b26bff8979a64b2bbd8c2b6f66de7c52"
          }
        },
        "9c407a7e7b444c3a94d54476f3dfb431": {
          "model_module": "@jupyter-widgets/controls",
          "model_name": "ProgressStyleModel",
          "state": {
            "_view_name": "StyleView",
            "_model_name": "ProgressStyleModel",
            "description_width": "initial",
            "_view_module": "@jupyter-widgets/base",
            "_model_module_version": "1.5.0",
            "_view_count": null,
            "_view_module_version": "1.2.0",
            "bar_color": null,
            "_model_module": "@jupyter-widgets/controls"
          }
        },
        "a2b31242eb1c48b9ae94183c646fd34f": {
          "model_module": "@jupyter-widgets/base",
          "model_name": "LayoutModel",
          "state": {
            "_view_name": "LayoutView",
            "grid_template_rows": null,
            "right": null,
            "justify_content": null,
            "_view_module": "@jupyter-widgets/base",
            "overflow": null,
            "_model_module_version": "1.2.0",
            "_view_count": null,
            "flex_flow": null,
            "width": null,
            "min_width": null,
            "border": null,
            "align_items": null,
            "bottom": null,
            "_model_module": "@jupyter-widgets/base",
            "top": null,
            "grid_column": null,
            "overflow_y": null,
            "overflow_x": null,
            "grid_auto_flow": null,
            "grid_area": null,
            "grid_template_columns": null,
            "flex": null,
            "_model_name": "LayoutModel",
            "justify_items": null,
            "grid_row": null,
            "max_height": null,
            "align_content": null,
            "visibility": null,
            "align_self": null,
            "height": null,
            "min_height": null,
            "padding": null,
            "grid_auto_rows": null,
            "grid_gap": null,
            "max_width": null,
            "order": null,
            "_view_module_version": "1.2.0",
            "grid_template_areas": null,
            "object_position": null,
            "object_fit": null,
            "grid_auto_columns": null,
            "margin": null,
            "display": null,
            "left": null
          }
        },
        "e4037bc7670f44d7ba8de75f692bc316": {
          "model_module": "@jupyter-widgets/controls",
          "model_name": "DescriptionStyleModel",
          "state": {
            "_view_name": "StyleView",
            "_model_name": "DescriptionStyleModel",
            "description_width": "",
            "_view_module": "@jupyter-widgets/base",
            "_model_module_version": "1.5.0",
            "_view_count": null,
            "_view_module_version": "1.2.0",
            "_model_module": "@jupyter-widgets/controls"
          }
        },
        "b26bff8979a64b2bbd8c2b6f66de7c52": {
          "model_module": "@jupyter-widgets/base",
          "model_name": "LayoutModel",
          "state": {
            "_view_name": "LayoutView",
            "grid_template_rows": null,
            "right": null,
            "justify_content": null,
            "_view_module": "@jupyter-widgets/base",
            "overflow": null,
            "_model_module_version": "1.2.0",
            "_view_count": null,
            "flex_flow": null,
            "width": null,
            "min_width": null,
            "border": null,
            "align_items": null,
            "bottom": null,
            "_model_module": "@jupyter-widgets/base",
            "top": null,
            "grid_column": null,
            "overflow_y": null,
            "overflow_x": null,
            "grid_auto_flow": null,
            "grid_area": null,
            "grid_template_columns": null,
            "flex": null,
            "_model_name": "LayoutModel",
            "justify_items": null,
            "grid_row": null,
            "max_height": null,
            "align_content": null,
            "visibility": null,
            "align_self": null,
            "height": null,
            "min_height": null,
            "padding": null,
            "grid_auto_rows": null,
            "grid_gap": null,
            "max_width": null,
            "order": null,
            "_view_module_version": "1.2.0",
            "grid_template_areas": null,
            "object_position": null,
            "object_fit": null,
            "grid_auto_columns": null,
            "margin": null,
            "display": null,
            "left": null
          }
        },
        "100b5a216446412ab8baf4a64b621d46": {
          "model_module": "@jupyter-widgets/controls",
          "model_name": "HBoxModel",
          "state": {
            "_view_name": "HBoxView",
            "_dom_classes": [],
            "_model_name": "HBoxModel",
            "_view_module": "@jupyter-widgets/controls",
            "_model_module_version": "1.5.0",
            "_view_count": null,
            "_view_module_version": "1.5.0",
            "box_style": "",
            "layout": "IPY_MODEL_aaa43b592fcd486c83d372ce3df33888",
            "_model_module": "@jupyter-widgets/controls",
            "children": [
              "IPY_MODEL_335f39b41afb478fa821bef65acced7f",
              "IPY_MODEL_9bd88ae8bc7641fcabe54a98a672a069"
            ]
          }
        },
        "aaa43b592fcd486c83d372ce3df33888": {
          "model_module": "@jupyter-widgets/base",
          "model_name": "LayoutModel",
          "state": {
            "_view_name": "LayoutView",
            "grid_template_rows": null,
            "right": null,
            "justify_content": null,
            "_view_module": "@jupyter-widgets/base",
            "overflow": null,
            "_model_module_version": "1.2.0",
            "_view_count": null,
            "flex_flow": null,
            "width": null,
            "min_width": null,
            "border": null,
            "align_items": null,
            "bottom": null,
            "_model_module": "@jupyter-widgets/base",
            "top": null,
            "grid_column": null,
            "overflow_y": null,
            "overflow_x": null,
            "grid_auto_flow": null,
            "grid_area": null,
            "grid_template_columns": null,
            "flex": null,
            "_model_name": "LayoutModel",
            "justify_items": null,
            "grid_row": null,
            "max_height": null,
            "align_content": null,
            "visibility": null,
            "align_self": null,
            "height": null,
            "min_height": null,
            "padding": null,
            "grid_auto_rows": null,
            "grid_gap": null,
            "max_width": null,
            "order": null,
            "_view_module_version": "1.2.0",
            "grid_template_areas": null,
            "object_position": null,
            "object_fit": null,
            "grid_auto_columns": null,
            "margin": null,
            "display": null,
            "left": null
          }
        },
        "335f39b41afb478fa821bef65acced7f": {
          "model_module": "@jupyter-widgets/controls",
          "model_name": "FloatProgressModel",
          "state": {
            "_view_name": "ProgressView",
            "style": "IPY_MODEL_cc5e31056e314b7e87e12f37141e7659",
            "_dom_classes": [],
            "description": "100%",
            "_model_name": "FloatProgressModel",
            "bar_style": "success",
            "max": 50,
            "_view_module": "@jupyter-widgets/controls",
            "_model_module_version": "1.5.0",
            "value": 50,
            "_view_count": null,
            "_view_module_version": "1.5.0",
            "orientation": "horizontal",
            "min": 0,
            "description_tooltip": null,
            "_model_module": "@jupyter-widgets/controls",
            "layout": "IPY_MODEL_685da88593114280a499f28f11efdc12"
          }
        },
        "9bd88ae8bc7641fcabe54a98a672a069": {
          "model_module": "@jupyter-widgets/controls",
          "model_name": "HTMLModel",
          "state": {
            "_view_name": "HTMLView",
            "style": "IPY_MODEL_39413b5eb151457d8c7a95fbb9996b3c",
            "_dom_classes": [],
            "description": "",
            "_model_name": "HTMLModel",
            "placeholder": "​",
            "_view_module": "@jupyter-widgets/controls",
            "_model_module_version": "1.5.0",
            "value": " 50/50 [1:00:04&lt;00:00, 72.10s/it]",
            "_view_count": null,
            "_view_module_version": "1.5.0",
            "description_tooltip": null,
            "_model_module": "@jupyter-widgets/controls",
            "layout": "IPY_MODEL_605f44c9bbf1477385eaf2339227d588"
          }
        },
        "cc5e31056e314b7e87e12f37141e7659": {
          "model_module": "@jupyter-widgets/controls",
          "model_name": "ProgressStyleModel",
          "state": {
            "_view_name": "StyleView",
            "_model_name": "ProgressStyleModel",
            "description_width": "initial",
            "_view_module": "@jupyter-widgets/base",
            "_model_module_version": "1.5.0",
            "_view_count": null,
            "_view_module_version": "1.2.0",
            "bar_color": null,
            "_model_module": "@jupyter-widgets/controls"
          }
        },
        "685da88593114280a499f28f11efdc12": {
          "model_module": "@jupyter-widgets/base",
          "model_name": "LayoutModel",
          "state": {
            "_view_name": "LayoutView",
            "grid_template_rows": null,
            "right": null,
            "justify_content": null,
            "_view_module": "@jupyter-widgets/base",
            "overflow": null,
            "_model_module_version": "1.2.0",
            "_view_count": null,
            "flex_flow": null,
            "width": null,
            "min_width": null,
            "border": null,
            "align_items": null,
            "bottom": null,
            "_model_module": "@jupyter-widgets/base",
            "top": null,
            "grid_column": null,
            "overflow_y": null,
            "overflow_x": null,
            "grid_auto_flow": null,
            "grid_area": null,
            "grid_template_columns": null,
            "flex": null,
            "_model_name": "LayoutModel",
            "justify_items": null,
            "grid_row": null,
            "max_height": null,
            "align_content": null,
            "visibility": null,
            "align_self": null,
            "height": null,
            "min_height": null,
            "padding": null,
            "grid_auto_rows": null,
            "grid_gap": null,
            "max_width": null,
            "order": null,
            "_view_module_version": "1.2.0",
            "grid_template_areas": null,
            "object_position": null,
            "object_fit": null,
            "grid_auto_columns": null,
            "margin": null,
            "display": null,
            "left": null
          }
        },
        "39413b5eb151457d8c7a95fbb9996b3c": {
          "model_module": "@jupyter-widgets/controls",
          "model_name": "DescriptionStyleModel",
          "state": {
            "_view_name": "StyleView",
            "_model_name": "DescriptionStyleModel",
            "description_width": "",
            "_view_module": "@jupyter-widgets/base",
            "_model_module_version": "1.5.0",
            "_view_count": null,
            "_view_module_version": "1.2.0",
            "_model_module": "@jupyter-widgets/controls"
          }
        },
        "605f44c9bbf1477385eaf2339227d588": {
          "model_module": "@jupyter-widgets/base",
          "model_name": "LayoutModel",
          "state": {
            "_view_name": "LayoutView",
            "grid_template_rows": null,
            "right": null,
            "justify_content": null,
            "_view_module": "@jupyter-widgets/base",
            "overflow": null,
            "_model_module_version": "1.2.0",
            "_view_count": null,
            "flex_flow": null,
            "width": null,
            "min_width": null,
            "border": null,
            "align_items": null,
            "bottom": null,
            "_model_module": "@jupyter-widgets/base",
            "top": null,
            "grid_column": null,
            "overflow_y": null,
            "overflow_x": null,
            "grid_auto_flow": null,
            "grid_area": null,
            "grid_template_columns": null,
            "flex": null,
            "_model_name": "LayoutModel",
            "justify_items": null,
            "grid_row": null,
            "max_height": null,
            "align_content": null,
            "visibility": null,
            "align_self": null,
            "height": null,
            "min_height": null,
            "padding": null,
            "grid_auto_rows": null,
            "grid_gap": null,
            "max_width": null,
            "order": null,
            "_view_module_version": "1.2.0",
            "grid_template_areas": null,
            "object_position": null,
            "object_fit": null,
            "grid_auto_columns": null,
            "margin": null,
            "display": null,
            "left": null
          }
        },
        "5e323cb2675d4741abeaf68f9a9016fa": {
          "model_module": "@jupyter-widgets/controls",
          "model_name": "HBoxModel",
          "state": {
            "_view_name": "HBoxView",
            "_dom_classes": [],
            "_model_name": "HBoxModel",
            "_view_module": "@jupyter-widgets/controls",
            "_model_module_version": "1.5.0",
            "_view_count": null,
            "_view_module_version": "1.5.0",
            "box_style": "",
            "layout": "IPY_MODEL_498ce6ca9b2744e19bd866996abdfc0b",
            "_model_module": "@jupyter-widgets/controls",
            "children": [
              "IPY_MODEL_4e1d446aa3df443d913fca5d3434a25f",
              "IPY_MODEL_d8082682195a447a9d1bd900af207cb3"
            ]
          }
        },
        "498ce6ca9b2744e19bd866996abdfc0b": {
          "model_module": "@jupyter-widgets/base",
          "model_name": "LayoutModel",
          "state": {
            "_view_name": "LayoutView",
            "grid_template_rows": null,
            "right": null,
            "justify_content": null,
            "_view_module": "@jupyter-widgets/base",
            "overflow": null,
            "_model_module_version": "1.2.0",
            "_view_count": null,
            "flex_flow": null,
            "width": null,
            "min_width": null,
            "border": null,
            "align_items": null,
            "bottom": null,
            "_model_module": "@jupyter-widgets/base",
            "top": null,
            "grid_column": null,
            "overflow_y": null,
            "overflow_x": null,
            "grid_auto_flow": null,
            "grid_area": null,
            "grid_template_columns": null,
            "flex": null,
            "_model_name": "LayoutModel",
            "justify_items": null,
            "grid_row": null,
            "max_height": null,
            "align_content": null,
            "visibility": null,
            "align_self": null,
            "height": null,
            "min_height": null,
            "padding": null,
            "grid_auto_rows": null,
            "grid_gap": null,
            "max_width": null,
            "order": null,
            "_view_module_version": "1.2.0",
            "grid_template_areas": null,
            "object_position": null,
            "object_fit": null,
            "grid_auto_columns": null,
            "margin": null,
            "display": null,
            "left": null
          }
        },
        "4e1d446aa3df443d913fca5d3434a25f": {
          "model_module": "@jupyter-widgets/controls",
          "model_name": "FloatProgressModel",
          "state": {
            "_view_name": "ProgressView",
            "style": "IPY_MODEL_553b20d410bc483d9ef0ec89c25b0bf3",
            "_dom_classes": [],
            "description": "100%",
            "_model_name": "FloatProgressModel",
            "bar_style": "success",
            "max": 50,
            "_view_module": "@jupyter-widgets/controls",
            "_model_module_version": "1.5.0",
            "value": 50,
            "_view_count": null,
            "_view_module_version": "1.5.0",
            "orientation": "horizontal",
            "min": 0,
            "description_tooltip": null,
            "_model_module": "@jupyter-widgets/controls",
            "layout": "IPY_MODEL_818ef0c5405049129080d68a641a312c"
          }
        },
        "d8082682195a447a9d1bd900af207cb3": {
          "model_module": "@jupyter-widgets/controls",
          "model_name": "HTMLModel",
          "state": {
            "_view_name": "HTMLView",
            "style": "IPY_MODEL_245bad1525e043a08a73d7450dc7bd2b",
            "_dom_classes": [],
            "description": "",
            "_model_name": "HTMLModel",
            "placeholder": "​",
            "_view_module": "@jupyter-widgets/controls",
            "_model_module_version": "1.5.0",
            "value": " 50/50 [24:32&lt;00:00, 29.45s/it]",
            "_view_count": null,
            "_view_module_version": "1.5.0",
            "description_tooltip": null,
            "_model_module": "@jupyter-widgets/controls",
            "layout": "IPY_MODEL_ca2981eb8b1a4d2f9dbfc86b21e3b4ce"
          }
        },
        "553b20d410bc483d9ef0ec89c25b0bf3": {
          "model_module": "@jupyter-widgets/controls",
          "model_name": "ProgressStyleModel",
          "state": {
            "_view_name": "StyleView",
            "_model_name": "ProgressStyleModel",
            "description_width": "initial",
            "_view_module": "@jupyter-widgets/base",
            "_model_module_version": "1.5.0",
            "_view_count": null,
            "_view_module_version": "1.2.0",
            "bar_color": null,
            "_model_module": "@jupyter-widgets/controls"
          }
        },
        "818ef0c5405049129080d68a641a312c": {
          "model_module": "@jupyter-widgets/base",
          "model_name": "LayoutModel",
          "state": {
            "_view_name": "LayoutView",
            "grid_template_rows": null,
            "right": null,
            "justify_content": null,
            "_view_module": "@jupyter-widgets/base",
            "overflow": null,
            "_model_module_version": "1.2.0",
            "_view_count": null,
            "flex_flow": null,
            "width": null,
            "min_width": null,
            "border": null,
            "align_items": null,
            "bottom": null,
            "_model_module": "@jupyter-widgets/base",
            "top": null,
            "grid_column": null,
            "overflow_y": null,
            "overflow_x": null,
            "grid_auto_flow": null,
            "grid_area": null,
            "grid_template_columns": null,
            "flex": null,
            "_model_name": "LayoutModel",
            "justify_items": null,
            "grid_row": null,
            "max_height": null,
            "align_content": null,
            "visibility": null,
            "align_self": null,
            "height": null,
            "min_height": null,
            "padding": null,
            "grid_auto_rows": null,
            "grid_gap": null,
            "max_width": null,
            "order": null,
            "_view_module_version": "1.2.0",
            "grid_template_areas": null,
            "object_position": null,
            "object_fit": null,
            "grid_auto_columns": null,
            "margin": null,
            "display": null,
            "left": null
          }
        },
        "245bad1525e043a08a73d7450dc7bd2b": {
          "model_module": "@jupyter-widgets/controls",
          "model_name": "DescriptionStyleModel",
          "state": {
            "_view_name": "StyleView",
            "_model_name": "DescriptionStyleModel",
            "description_width": "",
            "_view_module": "@jupyter-widgets/base",
            "_model_module_version": "1.5.0",
            "_view_count": null,
            "_view_module_version": "1.2.0",
            "_model_module": "@jupyter-widgets/controls"
          }
        },
        "ca2981eb8b1a4d2f9dbfc86b21e3b4ce": {
          "model_module": "@jupyter-widgets/base",
          "model_name": "LayoutModel",
          "state": {
            "_view_name": "LayoutView",
            "grid_template_rows": null,
            "right": null,
            "justify_content": null,
            "_view_module": "@jupyter-widgets/base",
            "overflow": null,
            "_model_module_version": "1.2.0",
            "_view_count": null,
            "flex_flow": null,
            "width": null,
            "min_width": null,
            "border": null,
            "align_items": null,
            "bottom": null,
            "_model_module": "@jupyter-widgets/base",
            "top": null,
            "grid_column": null,
            "overflow_y": null,
            "overflow_x": null,
            "grid_auto_flow": null,
            "grid_area": null,
            "grid_template_columns": null,
            "flex": null,
            "_model_name": "LayoutModel",
            "justify_items": null,
            "grid_row": null,
            "max_height": null,
            "align_content": null,
            "visibility": null,
            "align_self": null,
            "height": null,
            "min_height": null,
            "padding": null,
            "grid_auto_rows": null,
            "grid_gap": null,
            "max_width": null,
            "order": null,
            "_view_module_version": "1.2.0",
            "grid_template_areas": null,
            "object_position": null,
            "object_fit": null,
            "grid_auto_columns": null,
            "margin": null,
            "display": null,
            "left": null
          }
        },
        "708bf1d791df404d9318bd7fa2d810be": {
          "model_module": "@jupyter-widgets/controls",
          "model_name": "HBoxModel",
          "state": {
            "_view_name": "HBoxView",
            "_dom_classes": [],
            "_model_name": "HBoxModel",
            "_view_module": "@jupyter-widgets/controls",
            "_model_module_version": "1.5.0",
            "_view_count": null,
            "_view_module_version": "1.5.0",
            "box_style": "",
            "layout": "IPY_MODEL_7a6baf8c3948404f90f740100601fcb9",
            "_model_module": "@jupyter-widgets/controls",
            "children": [
              "IPY_MODEL_aa4a48c3911e434a91ad957b02cb8c0e",
              "IPY_MODEL_61f441914f7345f48ff04685afce9af3"
            ]
          }
        },
        "7a6baf8c3948404f90f740100601fcb9": {
          "model_module": "@jupyter-widgets/base",
          "model_name": "LayoutModel",
          "state": {
            "_view_name": "LayoutView",
            "grid_template_rows": null,
            "right": null,
            "justify_content": null,
            "_view_module": "@jupyter-widgets/base",
            "overflow": null,
            "_model_module_version": "1.2.0",
            "_view_count": null,
            "flex_flow": null,
            "width": null,
            "min_width": null,
            "border": null,
            "align_items": null,
            "bottom": null,
            "_model_module": "@jupyter-widgets/base",
            "top": null,
            "grid_column": null,
            "overflow_y": null,
            "overflow_x": null,
            "grid_auto_flow": null,
            "grid_area": null,
            "grid_template_columns": null,
            "flex": null,
            "_model_name": "LayoutModel",
            "justify_items": null,
            "grid_row": null,
            "max_height": null,
            "align_content": null,
            "visibility": null,
            "align_self": null,
            "height": null,
            "min_height": null,
            "padding": null,
            "grid_auto_rows": null,
            "grid_gap": null,
            "max_width": null,
            "order": null,
            "_view_module_version": "1.2.0",
            "grid_template_areas": null,
            "object_position": null,
            "object_fit": null,
            "grid_auto_columns": null,
            "margin": null,
            "display": null,
            "left": null
          }
        },
        "aa4a48c3911e434a91ad957b02cb8c0e": {
          "model_module": "@jupyter-widgets/controls",
          "model_name": "FloatProgressModel",
          "state": {
            "_view_name": "ProgressView",
            "style": "IPY_MODEL_917641a67158435aafeb146f64e23be0",
            "_dom_classes": [],
            "description": "100%",
            "_model_name": "FloatProgressModel",
            "bar_style": "success",
            "max": 50,
            "_view_module": "@jupyter-widgets/controls",
            "_model_module_version": "1.5.0",
            "value": 50,
            "_view_count": null,
            "_view_module_version": "1.5.0",
            "orientation": "horizontal",
            "min": 0,
            "description_tooltip": null,
            "_model_module": "@jupyter-widgets/controls",
            "layout": "IPY_MODEL_db9e66be44c1452a856803cb998e59fa"
          }
        },
        "61f441914f7345f48ff04685afce9af3": {
          "model_module": "@jupyter-widgets/controls",
          "model_name": "HTMLModel",
          "state": {
            "_view_name": "HTMLView",
            "style": "IPY_MODEL_af29f884e53a4c0684d3b4b538b67bf3",
            "_dom_classes": [],
            "description": "",
            "_model_name": "HTMLModel",
            "placeholder": "​",
            "_view_module": "@jupyter-widgets/controls",
            "_model_module_version": "1.5.0",
            "value": " 50/50 [23:04&lt;00:00, 27.69s/it]",
            "_view_count": null,
            "_view_module_version": "1.5.0",
            "description_tooltip": null,
            "_model_module": "@jupyter-widgets/controls",
            "layout": "IPY_MODEL_a584d4565e6f4558a9f97420f5b1fec5"
          }
        },
        "917641a67158435aafeb146f64e23be0": {
          "model_module": "@jupyter-widgets/controls",
          "model_name": "ProgressStyleModel",
          "state": {
            "_view_name": "StyleView",
            "_model_name": "ProgressStyleModel",
            "description_width": "initial",
            "_view_module": "@jupyter-widgets/base",
            "_model_module_version": "1.5.0",
            "_view_count": null,
            "_view_module_version": "1.2.0",
            "bar_color": null,
            "_model_module": "@jupyter-widgets/controls"
          }
        },
        "db9e66be44c1452a856803cb998e59fa": {
          "model_module": "@jupyter-widgets/base",
          "model_name": "LayoutModel",
          "state": {
            "_view_name": "LayoutView",
            "grid_template_rows": null,
            "right": null,
            "justify_content": null,
            "_view_module": "@jupyter-widgets/base",
            "overflow": null,
            "_model_module_version": "1.2.0",
            "_view_count": null,
            "flex_flow": null,
            "width": null,
            "min_width": null,
            "border": null,
            "align_items": null,
            "bottom": null,
            "_model_module": "@jupyter-widgets/base",
            "top": null,
            "grid_column": null,
            "overflow_y": null,
            "overflow_x": null,
            "grid_auto_flow": null,
            "grid_area": null,
            "grid_template_columns": null,
            "flex": null,
            "_model_name": "LayoutModel",
            "justify_items": null,
            "grid_row": null,
            "max_height": null,
            "align_content": null,
            "visibility": null,
            "align_self": null,
            "height": null,
            "min_height": null,
            "padding": null,
            "grid_auto_rows": null,
            "grid_gap": null,
            "max_width": null,
            "order": null,
            "_view_module_version": "1.2.0",
            "grid_template_areas": null,
            "object_position": null,
            "object_fit": null,
            "grid_auto_columns": null,
            "margin": null,
            "display": null,
            "left": null
          }
        },
        "af29f884e53a4c0684d3b4b538b67bf3": {
          "model_module": "@jupyter-widgets/controls",
          "model_name": "DescriptionStyleModel",
          "state": {
            "_view_name": "StyleView",
            "_model_name": "DescriptionStyleModel",
            "description_width": "",
            "_view_module": "@jupyter-widgets/base",
            "_model_module_version": "1.5.0",
            "_view_count": null,
            "_view_module_version": "1.2.0",
            "_model_module": "@jupyter-widgets/controls"
          }
        },
        "a584d4565e6f4558a9f97420f5b1fec5": {
          "model_module": "@jupyter-widgets/base",
          "model_name": "LayoutModel",
          "state": {
            "_view_name": "LayoutView",
            "grid_template_rows": null,
            "right": null,
            "justify_content": null,
            "_view_module": "@jupyter-widgets/base",
            "overflow": null,
            "_model_module_version": "1.2.0",
            "_view_count": null,
            "flex_flow": null,
            "width": null,
            "min_width": null,
            "border": null,
            "align_items": null,
            "bottom": null,
            "_model_module": "@jupyter-widgets/base",
            "top": null,
            "grid_column": null,
            "overflow_y": null,
            "overflow_x": null,
            "grid_auto_flow": null,
            "grid_area": null,
            "grid_template_columns": null,
            "flex": null,
            "_model_name": "LayoutModel",
            "justify_items": null,
            "grid_row": null,
            "max_height": null,
            "align_content": null,
            "visibility": null,
            "align_self": null,
            "height": null,
            "min_height": null,
            "padding": null,
            "grid_auto_rows": null,
            "grid_gap": null,
            "max_width": null,
            "order": null,
            "_view_module_version": "1.2.0",
            "grid_template_areas": null,
            "object_position": null,
            "object_fit": null,
            "grid_auto_columns": null,
            "margin": null,
            "display": null,
            "left": null
          }
        }
      }
    },
    "accelerator": "GPU"
  },
  "cells": [
    {
      "cell_type": "markdown",
      "metadata": {
        "id": "view-in-github",
        "colab_type": "text"
      },
      "source": [
        "<a href=\"https://colab.research.google.com/github/sensharma/adlproject/blob/main/adlproj_base_exp.ipynb\" target=\"_parent\"><img src=\"https://colab.research.google.com/assets/colab-badge.svg\" alt=\"Open In Colab\"/></a>"
      ]
    },
    {
      "cell_type": "code",
      "metadata": {
        "id": "EZgnpWyu_8_L",
        "colab": {
          "base_uri": "https://localhost:8080/"
        },
        "outputId": "8421a6d8-11a0-4805-9c3e-c0020af3f3ef"
      },
      "source": [
        "%tensorflow_version 1.x #selects tf 1.x in Google Colab; Deeplift needs tf1\n",
        "from google.colab import drive\n",
        "drive.mount('/content/gdrive')\n",
        "# !ls /content/gdrive/MyDrive/data\n",
        "# !ls /content/gdrive/MyDrive/colabdrive/adlproject/saved_models/"
      ],
      "execution_count": null,
      "outputs": [
        {
          "output_type": "stream",
          "text": [
            "`%tensorflow_version` only switches the major version: 1.x or 2.x.\n",
            "You set: `1.x #selects tf 1.x in Google Colab; Deeplift needs tf1`. This will be interpreted as: `1.x`.\n",
            "\n",
            "\n",
            "TensorFlow 1.x selected.\n",
            "Drive already mounted at /content/gdrive; to attempt to forcibly remount, call drive.mount(\"/content/gdrive\", force_remount=True).\n"
          ],
          "name": "stdout"
        }
      ]
    },
    {
      "cell_type": "code",
      "metadata": {
        "id": "G8e2hvzikean"
      },
      "source": [
        "!pip install deeplift shap > /dev/null"
      ],
      "execution_count": null,
      "outputs": []
    },
    {
      "cell_type": "code",
      "metadata": {
        "id": "Z4i9u_PA0kQo",
        "colab": {
          "base_uri": "https://localhost:8080/"
        },
        "outputId": "371edcbe-c684-459b-ca7f-0078b0768522"
      },
      "source": [
        "import os\n",
        "import time\n",
        "from collections import OrderedDict\n",
        "\n",
        "import numpy as np\n",
        "import matplotlib.pyplot as plt\n",
        "\n",
        "import keras\n",
        "from keras.datasets import mnist\n",
        "from keras import backend as K\n",
        "\n",
        "import torch\n",
        "from torch import nn\n",
        "\n",
        "import shap\n",
        "import deeplift\n",
        "from deeplift.layers import NonlinearMxtsMode\n",
        "from deeplift.conversion import kerasapi_conversion as kc\n",
        "from deeplift.util import get_integrated_gradients_function, compile_func\n",
        "\n",
        "\n",
        "models_path = os.path.join(os.getcwd(), 'gdrive', 'MyDrive', 'colabdrive', 'adlproject', 'saved_models')\n",
        "plots_path = os.path.join(os.getcwd(), 'gdrive', 'MyDrive', 'colabdrive', 'adlproject', 'plots', 'MNIST')\n",
        "model_file = f\"{models_path}/keras2_mnist_cnn_allconv.h5\"\n",
        "pt_model_file = f\"{models_path}/mnist_checkpoint\"\n",
        "\n",
        "use_cuda = torch.cuda.is_available()\n",
        "device = \"cuda\" if use_cuda else \"cpu\"\n",
        "\n",
        "keras_model = keras.models.load_model(model_file)\n",
        "keras_model.summary()"
      ],
      "execution_count": null,
      "outputs": [
        {
          "output_type": "stream",
          "text": [
            "Using TensorFlow backend.\n"
          ],
          "name": "stderr"
        },
        {
          "output_type": "stream",
          "text": [
            "WARNING:tensorflow:From /tensorflow-1.15.2/python3.6/tensorflow_core/python/ops/resource_variable_ops.py:1630: calling BaseResourceVariable.__init__ (from tensorflow.python.ops.resource_variable_ops) with constraint is deprecated and will be removed in a future version.\n",
            "Instructions for updating:\n",
            "If using Keras pass *_constraint arguments to layers.\n",
            "Model: \"sequential_1\"\n",
            "_________________________________________________________________\n",
            "Layer (type)                 Output Shape              Param #   \n",
            "=================================================================\n",
            "conv2d_1 (Conv2D)            (None, 13, 13, 32)        544       \n",
            "_________________________________________________________________\n",
            "activation_1 (Activation)    (None, 13, 13, 32)        0         \n",
            "_________________________________________________________________\n",
            "conv2d_2 (Conv2D)            (None, 5, 5, 64)          32832     \n",
            "_________________________________________________________________\n",
            "activation_2 (Activation)    (None, 5, 5, 64)          0         \n",
            "_________________________________________________________________\n",
            "dropout_1 (Dropout)          (None, 5, 5, 64)          0         \n",
            "_________________________________________________________________\n",
            "flatten_1 (Flatten)          (None, 1600)              0         \n",
            "_________________________________________________________________\n",
            "dense_1 (Dense)              (None, 128)               204928    \n",
            "_________________________________________________________________\n",
            "activation_3 (Activation)    (None, 128)               0         \n",
            "_________________________________________________________________\n",
            "dropout_2 (Dropout)          (None, 128)               0         \n",
            "_________________________________________________________________\n",
            "dense_2 (Dense)              (None, 10)                1290      \n",
            "_________________________________________________________________\n",
            "activation_4 (Activation)    (None, 10)                0         \n",
            "=================================================================\n",
            "Total params: 239,594\n",
            "Trainable params: 239,594\n",
            "Non-trainable params: 0\n",
            "_________________________________________________________________\n"
          ],
          "name": "stdout"
        },
        {
          "output_type": "stream",
          "text": [
            "No training configuration found in save file: the model was *not* compiled. Compile it manually.\n"
          ],
          "name": "stderr"
        }
      ]
    },
    {
      "cell_type": "markdown",
      "metadata": {
        "id": "iNuFX5JlbGhi"
      },
      "source": [
        "**Conv2D layers:**\n",
        "- 32 filters: f = (16, 16); s = 1; p=0; (valid)\n",
        "- 64 filters: f = (9, 9); s = 1; p=0; (valid)"
      ]
    },
    {
      "cell_type": "code",
      "metadata": {
        "id": "3At3Rg-3zoXa"
      },
      "source": [
        "class Net(nn.Module):\n",
        "    def __init__(self, h=28, w=28, n_channels=1):\n",
        "        super(Net, self).__init__()\n",
        "        self.h = h\n",
        "        self.w = w\n",
        "        self.n_channels = n_channels\n",
        "\n",
        "        self.conv_layers = nn.Sequential(\n",
        "            nn.Conv2d(1, 32, kernel_size=(16, 16), stride=(1, 1)),\n",
        "            nn.ReLU(),\n",
        "            nn.Conv2d(32, 64, kernel_size=(9, 9), stride=(1, 1)),\n",
        "            nn.ReLU(),\n",
        "            nn.Dropout(0.25),\n",
        "        )\n",
        "        self.fc_layers = nn.Sequential(\n",
        "            nn.Linear(1600, 128),\n",
        "            nn.ReLU(),\n",
        "            nn.Dropout(0.5),\n",
        "            nn.Linear(128, 10),\n",
        "            nn.Softmax(dim=1)\n",
        "        )\n",
        "\n",
        "    def x_compat(self, x):\n",
        "        # print(f\"x - type {type(x)}\")\n",
        "        if type(x) is not torch.Tensor:\n",
        "            x_tensor = torch.from_numpy(x)\n",
        "        else:\n",
        "            x_tensor = x\n",
        "        x_out = x_tensor.clone().reshape(x.shape[0],\n",
        "                                         self.n_channels,\n",
        "                                         self.h,\n",
        "                                         self.w)\n",
        "        return x_out.float()\n",
        "\n",
        "    def forward(self, x):\n",
        "        if x.ndim != 4:\n",
        "            # print(\"in compat\")\n",
        "            x = self.x_compat(x)\n",
        "        x = self.conv_layers(x)\n",
        "        # print(f\"shape: {x.shape}\")\n",
        "        # x = x.view(-1, 1600)\n",
        "        x = torch.flatten(x, 1)\n",
        "        x = self.fc_layers(x)\n",
        "        return x"
      ],
      "execution_count": null,
      "outputs": []
    },
    {
      "cell_type": "code",
      "metadata": {
        "colab": {
          "base_uri": "https://localhost:8080/"
        },
        "id": "iw4bJP5zzovK",
        "outputId": "4bcc84f8-885e-4fd7-bfc3-c64bc3a71d7b"
      },
      "source": [
        "checkpoint = torch.load(pt_model_file, map_location=device)\n",
        "pt_model = Net()\n",
        "pt_model.load_state_dict(checkpoint['model_state_dict'])\n",
        "pt_model.to(device)\n",
        "pt_model.eval()"
      ],
      "execution_count": null,
      "outputs": [
        {
          "output_type": "execute_result",
          "data": {
            "text/plain": [
              "Net(\n",
              "  (conv_layers): Sequential(\n",
              "    (0): Conv2d(1, 32, kernel_size=(16, 16), stride=(1, 1))\n",
              "    (1): ReLU()\n",
              "    (2): Conv2d(32, 64, kernel_size=(9, 9), stride=(1, 1))\n",
              "    (3): ReLU()\n",
              "    (4): Dropout(p=0.25, inplace=False)\n",
              "  )\n",
              "  (fc_layers): Sequential(\n",
              "    (0): Linear(in_features=1600, out_features=128, bias=True)\n",
              "    (1): ReLU()\n",
              "    (2): Dropout(p=0.5, inplace=False)\n",
              "    (3): Linear(in_features=128, out_features=10, bias=True)\n",
              "    (4): Softmax(dim=1)\n",
              "  )\n",
              ")"
            ]
          },
          "metadata": {
            "tags": []
          },
          "execution_count": 5
        }
      ]
    },
    {
      "cell_type": "code",
      "metadata": {
        "id": "ghuIkDoJlASF"
      },
      "source": [
        "def keras_mnist_loader(indices=[5846]):\n",
        "    if type(indices) is list:\n",
        "        data_idxs = np.array(indices)\n",
        "    (X_train, y_train), (X_test, y_test) = mnist.load_data()\n",
        "    rX_test = X_test[indices, :, :, None]\n",
        "    ry_test = y_test[indices]\n",
        "    X_test = X_test / 255\n",
        "    rX_test = rX_test / 255\n",
        "    return X_train, y_train, X_test, y_test, rX_test, ry_test\n",
        "\n",
        "def gen_random_data_subset(n=60, len_test_set=10000):\n",
        "    test_indices = np.arange(len_test_set)\n",
        "    rand_indices = np.random.choice(\n",
        "        test_indices, size=n, replace=False)\n",
        "\n",
        "    # loading the random selection of test items from keras\n",
        "    X_train, y_train, X_test, y_test, rX_test, ry_test = keras_mnist_loader(rand_indices)\n",
        "    return X_train, y_train, X_test, y_test, rX_test, ry_test\n",
        "\n",
        "def gen_random_label_subset(label, n=60, len_test_set=10000):\n",
        "    test_indices = np.arange(len_test_set)\n",
        "    (X_train, y_train), (X_test, y_test) = mnist.load_data()\n",
        "    X_test = X_test / 255\n",
        "    label_indices = np.where(y_test==label)\n",
        "    rand_indices = np.random.choice(\n",
        "        label_indices[0], size=n, replace=False)\n",
        "    X_test_sample = X_test[rand_indices, :, :, None]\n",
        "    y_test_sample = y_test[rand_indices]\n",
        "    # loading the random selection of test items from keras\n",
        "    return X_test_sample, y_test_sample"
      ],
      "execution_count": null,
      "outputs": []
    },
    {
      "cell_type": "code",
      "metadata": {
        "id": "HzFsHefKB6tN"
      },
      "source": [
        "# indices to visualise\n",
        "indices = [5846, 61]\n",
        "X_train, y_train, X_test, y_test, rX_test, ry_test = keras_mnist_loader(indices)"
      ],
      "execution_count": null,
      "outputs": []
    },
    {
      "cell_type": "code",
      "metadata": {
        "id": "xioncom047ot",
        "colab": {
          "base_uri": "https://localhost:8080/"
        },
        "outputId": "8f9b6400-3c5a-4b8d-f75c-15aa52525091"
      },
      "source": [
        "# grad_model required for integrated_gradient\n",
        "grad_model = kc.convert_model_from_saved_files(\n",
        "    h5_file=model_file, nonlinear_mxts_mode=NonlinearMxtsMode.Gradient\n",
        ")\n",
        "\n",
        "gradient_func = grad_model.get_target_multipliers_func(\n",
        "    find_scores_layer_idx=0, target_layer_idx=-2\n",
        ")\n",
        "\n",
        "# the New DeepLIFT model (better aligned with Shapeley values)\n",
        "revealcancel_model = kc.convert_model_from_saved_files(\n",
        "    h5_file=model_file, nonlinear_mxts_mode=NonlinearMxtsMode.RevealCancel\n",
        ")\n",
        "\n",
        "deeplift_model = revealcancel_model\n",
        "deeplift_prediction_func = compile_func(\n",
        "    [deeplift_model.get_layers()[0].get_activation_vars()],\n",
        "    deeplift_model.get_layers()[-1].get_activation_vars(),\n",
        ")\n",
        "\n",
        "revealcancel_func = revealcancel_model.get_target_contribs_func(\n",
        "    find_scores_layer_idx=0, target_layer_idx=-2\n",
        ")\n",
        "\n",
        "integrated_grads_10 = get_integrated_gradients_function(gradient_func, 10)\n",
        "\n",
        "# kernel shap -> 0s as background\n",
        "ker_shap_background = np.zeros((1, 784))\n",
        "\n",
        "# kernel shap predict function\n",
        "def f(z):\n",
        "    return keras_model.predict(z.reshape(z.shape[0], 28, 28, 1))\n",
        "\n",
        "# deep shap can average over background or be given a fixed (say 0) background\n",
        "# deep_shap_background = torch.from_numpy(np.expand_dims(X_train[:500], axis=1))\n",
        "# deep_shap_background = deep_shap_background/255\n",
        "\n",
        "deep_shap_background = torch.zeros_like(torch.from_numpy(np.expand_dims(X_train[0:1], axis=1))).float()\n",
        "\n",
        "deep_exp = shap.DeepExplainer(pt_model, deep_shap_background.to(device))\n",
        "\n",
        "ker_exp = shap.KernelExplainer(f, ker_shap_background)\n",
        "\n",
        "SCORING_METHODS = [\n",
        "    (\"revealcancel\", \"DL_RC\", revealcancel_func),\n",
        "    (\"integrated_grads_10\", \"IG_10\", integrated_grads_10),\n",
        "    (\"deep_shap\", \"d_shap\", None),\n",
        "    (\"kernel_shap\", \"k_shap\", None),\n",
        "]"
      ],
      "execution_count": null,
      "outputs": [
        {
          "output_type": "stream",
          "text": [
            "nonlinear_mxts_mode is set to: Gradient\n",
            "WARNING:tensorflow:From /usr/local/lib/python3.6/dist-packages/deeplift/layers/core.py:207: The name tf.placeholder is deprecated. Please use tf.compat.v1.placeholder instead.\n",
            "\n"
          ],
          "name": "stdout"
        },
        {
          "output_type": "stream",
          "text": [
            "The default file mode will change to 'r' (read-only) in h5py 3.0. To suppress this warning, pass the mode you need to h5py.File(), or set the global default h5.get_config().default_file_mode, or set the environment variable H5PY_DEFAULT_READONLY=1. Available modes are: 'r', 'r+', 'w', 'w-'/'x', 'a'. See the docs for details.\n",
            "The default file mode will change to 'r' (read-only) in h5py 3.0. To suppress this warning, pass the mode you need to h5py.File(), or set the global default h5.get_config().default_file_mode, or set the environment variable H5PY_DEFAULT_READONLY=1. Available modes are: 'r', 'r+', 'w', 'w-'/'x', 'a'. See the docs for details.\n"
          ],
          "name": "stderr"
        },
        {
          "output_type": "stream",
          "text": [
            "Heads-up: I assume softmax is the output layer, not an intermediate one; if it's an intermediate layer, please let me know and I will prioritise that use-case\n",
            "WARNING:tensorflow:From /usr/local/lib/python3.6/dist-packages/deeplift/layers/core.py:455: The name tf.variables_initializer is deprecated. Please use tf.compat.v1.variables_initializer instead.\n",
            "\n",
            "WARNING:tensorflow:From /usr/local/lib/python3.6/dist-packages/deeplift/layers/core.py:471: The name tf.assign is deprecated. Please use tf.compat.v1.assign instead.\n",
            "\n",
            "WARNING:tensorflow:From /usr/local/lib/python3.6/dist-packages/deeplift/layers/core.py:473: The name tf.scatter_update is deprecated. Please use tf.compat.v1.scatter_update instead.\n",
            "\n",
            "nonlinear_mxts_mode is set to: RevealCancel\n",
            "Heads-up: I assume softmax is the output layer, not an intermediate one; if it's an intermediate layer, please let me know and I will prioritise that use-case\n",
            "WARNING:tensorflow:From /tensorflow-1.15.2/python3.6/keras/backend/tensorflow_backend.py:422: The name tf.global_variables is deprecated. Please use tf.compat.v1.global_variables instead.\n",
            "\n",
            "WARNING:tensorflow:From /tensorflow-1.15.2/python3.6/keras/backend/tensorflow_backend.py:431: The name tf.is_variable_initialized is deprecated. Please use tf.compat.v1.is_variable_initialized instead.\n",
            "\n"
          ],
          "name": "stdout"
        }
      ]
    },
    {
      "cell_type": "code",
      "metadata": {
        "id": "IXIA7mye6i7N"
      },
      "source": [
        "def calculate_scores(rX_test, ry_test, k_shap_nsamples=5000):\n",
        "    method_scores = dict.fromkeys(['scores', 'labels'])\n",
        "    method_scores['scores'] = {}\n",
        "\n",
        "    for method_name, _, score_func in SCORING_METHODS:\n",
        "        if method_name in [\"revealcancel\", \"integrated_grads_10\"]:\n",
        "            print(f\"Computing scores for: {method_name}\")\n",
        "            \n",
        "            method_scores['scores'][method_name] = []\n",
        "            init_time = time.time()\n",
        "            for task_idx in range(10):\n",
        "                \n",
        "                scores = np.array(\n",
        "                    score_func(\n",
        "                        task_idx=task_idx,\n",
        "                        input_data_list=[rX_test],  # [X_test],\n",
        "                        input_references_list=[np.zeros_like(rX_test)],\n",
        "                        batch_size=1,  # 1000,\n",
        "                        progress_update=None))  # None\n",
        "                method_scores['scores'][method_name].append(scores)\n",
        "            print(f\"Time taken for {method_name}: {time.time() - init_time:.3f}s\")\n",
        "\n",
        "    method_scores['labels'] = ry_test\n",
        "\n",
        "    print(\"\\n \\n Computing scores for DeepSHAP:\")\n",
        "    method_name = \"deep_shap\"\n",
        "    rX_test_ds = torch.from_numpy(np.swapaxes(np.swapaxes(rX_test, 1, -1), -1, -2)).float()\n",
        "    init_time = time.time()\n",
        "    d_shap_values = deep_exp.shap_values(rX_test_ds)\n",
        "    d_shap_values = [np.swapaxes(np.swapaxes(d, 1, -1), 1, 2)\n",
        "                    for d in d_shap_values]\n",
        "\n",
        "    keys = np.arange(len(d_shap_values))\n",
        "    keys = [key for key in keys]\n",
        "    ds_dict = dict.fromkeys(keys)\n",
        "    for key in keys:\n",
        "        ds_dict[key] = d_shap_values[int(key)]\n",
        "    method_scores['scores'][method_name] = ds_dict\n",
        "    print(f\"Time taken for {method_name}: {time.time() - init_time:.3f}s\")\n",
        "\n",
        "    print(\"\\n \\n Computing scores for: KernelSHAP:\")\n",
        "    method_name = 'kernel_shap'\n",
        "    init_time = time.time()\n",
        "    rX_test_ker = rX_test.copy()\n",
        "    rX_test_ker = rX_test_ker.squeeze().reshape(rX_test_ker.shape[0], -1)\n",
        "    k_shap_values = ker_exp.shap_values(\n",
        "        rX_test_ker, nsamples=k_shap_nsamples)  # runs model nsamples no. of times, paper = 50000 \n",
        "\n",
        "    k_shap_values = [ks.reshape(scores.shape[0],\n",
        "                                int(ks.shape[1]**0.5),\n",
        "                                int(ks.shape[1]**0.5),\n",
        "                                1) for ks in k_shap_values]\n",
        "\n",
        "    method_scores['scores'][method_name] = k_shap_values\n",
        "    print(f\"Time taken for {method_name}: {time.time() - init_time:.3f}s\")\n",
        "    return method_scores"
      ],
      "execution_count": null,
      "outputs": []
    },
    {
      "cell_type": "code",
      "metadata": {
        "id": "aa2QR_NS1CUV"
      },
      "source": [
        "def viz_scores(scores, ax):\n",
        "    reshaped_scores = scores.reshape(28, 28)\n",
        "    the_min = np.min(reshaped_scores)\n",
        "    the_max = np.max(reshaped_scores)\n",
        "    center = 0.0\n",
        "    negative_vals = (reshaped_scores < center) * \\\n",
        "        reshaped_scores/(the_min + 10**-7)\n",
        "    positive_vals = (reshaped_scores > center)*reshaped_scores/float(the_max)\n",
        "    reshaped_scores = -negative_vals + positive_vals\n",
        "    ax.imshow(-reshaped_scores, cmap='viridis')\n",
        "    ax.set_xticks([])\n",
        "    ax.set_yticks([])\n",
        "\n",
        "\n",
        "def get_masked_image(idx, scores, task_1, task_2, n_to_erase):\n",
        "    difference = scores[(task_1)][idx].ravel() - \\\n",
        "        scores[(task_2)][idx].ravel()\n",
        "    \n",
        "    \"\"\"Note: UP TO n_to_erase, as long as diff > 0\"\"\"\n",
        "    top_nth_threshold = max(\n",
        "        sorted(difference, key=lambda x: -x)[n_to_erase], 0.0)\n",
        "    thresholded_points = 1.0 * (difference <= top_nth_threshold)\n",
        "    masked_inp = thresholded_points.reshape(\n",
        "        28, 28, 1) * rX_test[idx]  # X_test\n",
        "    return masked_inp\n",
        "\n",
        "\n",
        "# Digit conversion plot\n",
        "def plot_mask_figures(idx, task_1, task_2, method_names, n_to_erase, save=False):\n",
        "    print(\"example index: \" + str(idx))\n",
        "    print(\n",
        "        \"Columns:\",\n",
        "        \"Original Digit;\",\n",
        "        \"Digit \" + str(task_1) + \" scores;\",\n",
        "        \"Digit \" + str(task_2) + \" scores;\",\n",
        "        str(task_1) + \"->\" + str(task_2) + \" masking scores;\",\n",
        "    )\n",
        "\n",
        "    print(\"Order of the methods is: \" + \", \".join(str(x)\n",
        "                                                  for x in method_names))\n",
        "    for method_name in method_names:\n",
        "        scores = method_scores['scores'][method_name]\n",
        "        mean_scores_over_all_tasks = np.mean(\n",
        "            np.array([scores[i][idx] for i in range(10)]), axis=0\n",
        "        )\n",
        "        f, axarr = plt.subplots(1, 4, sharey=False, figsize=(5, 3))\n",
        "        viz_scores(rX_test[idx], axarr[0])  # orig: X_test\n",
        "        viz_scores(scores[task_1][idx] -\n",
        "                   mean_scores_over_all_tasks, axarr[1])\n",
        "        viz_scores(scores[task_2][idx] -\n",
        "                   mean_scores_over_all_tasks, axarr[2])\n",
        "        viz_scores(get_masked_image(\n",
        "            idx, scores, task_1, task_2, n_to_erase), axarr[3])\n",
        "    if save:\n",
        "        plt.savefig(f'{plots_path}/digit{task_1}to{task_2}.png')\n",
        "    plt.show()"
      ],
      "execution_count": null,
      "outputs": []
    },
    {
      "cell_type": "code",
      "metadata": {
        "id": "GyXAl8E4DGZq",
        "colab": {
          "base_uri": "https://localhost:8080/",
          "height": 274,
          "referenced_widgets": [
            "74cd171640a549338d5f26ce90b26f46",
            "3b2ea02dcb4f46b99bec34547316deb8",
            "cee48527197b4b388167ef8b6d1b178f",
            "5e45802fc4b04149b561cd312da95767",
            "0655b112e24b49729fdb5495ed9e2418",
            "fb4c1145b9ce4d119f409f17ad0d8d9a",
            "14ace953d54d4efa9e50b40ced454a51",
            "5714afd4113f4322be8275f0fe85af23"
          ]
        },
        "outputId": "ab3ed04b-3bec-4a75-fa32-2b5dde6102ee"
      },
      "source": [
        "indices = [5846, 61, 77, 81, 99]\n",
        "X_train, y_train, X_test, y_test, rX_test, ry_test = keras_mnist_loader(indices)\n",
        "method_scores = calculate_scores(rX_test, ry_test, k_shap_nsamples=50000)"
      ],
      "execution_count": null,
      "outputs": [
        {
          "output_type": "stream",
          "text": [
            "Computing scores for: revealcancel\n",
            "Time taken for revealcancel: 2.502s\n",
            "Computing scores for: integrated_grads_10\n",
            "Time taken for integrated_grads_10: 3.662s\n",
            "\n",
            " \n",
            " Computing scores for DeepSHAP:\n",
            "Time taken for deep_shap: 0.182s\n",
            "\n",
            " \n",
            " Computing scores for: KernelSHAP:\n"
          ],
          "name": "stdout"
        },
        {
          "output_type": "display_data",
          "data": {
            "application/vnd.jupyter.widget-view+json": {
              "model_id": "74cd171640a549338d5f26ce90b26f46",
              "version_minor": 0,
              "version_major": 2
            },
            "text/plain": [
              "HBox(children=(FloatProgress(value=0.0, max=5.0), HTML(value='')))"
            ]
          },
          "metadata": {
            "tags": []
          }
        },
        {
          "output_type": "stream",
          "text": [
            "\n",
            "Time taken for kernel_shap: 55.884s\n"
          ],
          "name": "stdout"
        }
      ]
    },
    {
      "cell_type": "code",
      "metadata": {
        "id": "ftLFLmBu1CLX",
        "colab": {
          "base_uri": "https://localhost:8080/",
          "height": 1000
        },
        "outputId": "4880eb0a-001b-4d1e-dd16-56b73579cc4c"
      },
      "source": [
        "method_names = [\"revealcancel\", \"integrated_grads_10\", \"deep_shap\", \"kernel_shap\"]\n",
        "# method_names = [\"revealcancel\", \"integrated_grads_10\", \"kernel_shap\"]\n",
        "\n",
        "# Not so good 8->3; 8->6 example\n",
        "# plot_two_way_figures(61,8,3,6,method_names,n_to_erase)\n",
        "\n",
        "# Good 8->3; 8->6 example\n",
        "# plot_two_way_figures(5846,8,3,6,method_names,n_to_erase)\n",
        "\n",
        "# Bad 3->8; 3->9 example; doesn't work very well when switching from the\n",
        "# minority class to the majority class\n",
        "# (in terms of proximity to 0s and 1s)\n",
        "shift_map = {\n",
        "    0: 8,\n",
        "    1: 7,\n",
        "    2: 5,\n",
        "    3: 1,\n",
        "    4: 1,\n",
        "    5: 6,\n",
        "    6: 8,\n",
        "    7: 1,\n",
        "    8: 3,\n",
        "    9: 4,\n",
        "}\n",
        "\n",
        "n_to_erase = 157  # approx 20% [of 784 (28 x 28)] = 157\n",
        "for idx, label in enumerate(ry_test):\n",
        "    plot_mask_figures(idx, label, shift_map[label],\n",
        "                      method_names, n_to_erase, save=True)   # orig index 5846"
      ],
      "execution_count": null,
      "outputs": [
        {
          "output_type": "stream",
          "text": [
            "example index: 0\n",
            "Columns: Original Digit; Digit 8 scores; Digit 3 scores; 8->3 masking scores;\n",
            "Order of the methods is: revealcancel, integrated_grads_10, deep_shap, kernel_shap\n"
          ],
          "name": "stdout"
        },
        {
          "output_type": "display_data",
          "data": {
            "image/png": "[encoded data removed]",
            "text/plain": [
              "<Figure size 360x216 with 4 Axes>"
            ]
          },
          "metadata": {
            "tags": []
          }
        },
        {
          "output_type": "display_data",
          "data": {
            "image/png": "[encoded data removed]",
            "text/plain": [
              "<Figure size 360x216 with 4 Axes>"
            ]
          },
          "metadata": {
            "tags": []
          }
        },
        {
          "output_type": "display_data",
          "data": {
            "image/png": "[encoded data removed]",
            "text/plain": [
              "<Figure size 360x216 with 4 Axes>"
            ]
          },
          "metadata": {
            "tags": []
          }
        },
        {
          "output_type": "display_data",
          "data": {
            "image/png": "[encoded data removed]",
            "text/plain": [
              "<Figure size 360x216 with 4 Axes>"
            ]
          },
          "metadata": {
            "tags": []
          }
        },
        {
          "output_type": "stream",
          "text": [
            "example index: 1\n",
            "Columns: Original Digit; Digit 8 scores; Digit 3 scores; 8->3 masking scores;\n",
            "Order of the methods is: revealcancel, integrated_grads_10, deep_shap, kernel_shap\n"
          ],
          "name": "stdout"
        },
        {
          "output_type": "display_data",
          "data": {
            "image/png": "[encoded data removed]",
            "text/plain": [
              "<Figure size 360x216 with 4 Axes>"
            ]
          },
          "metadata": {
            "tags": []
          }
        },
        {
          "output_type": "display_data",
          "data": {
            "image/png": "[encoded data removed]",
            "text/plain": [
              "<Figure size 360x216 with 4 Axes>"
            ]
          },
          "metadata": {
            "tags": []
          }
        },
        {
          "output_type": "display_data",
          "data": {
            "image/png": "[encoded data removed]",
            "text/plain": [
              "<Figure size 360x216 with 4 Axes>"
            ]
          },
          "metadata": {
            "tags": []
          }
        },
        {
          "output_type": "display_data",
          "data": {
            "image/png": "[encoded data removed]",
            "text/plain": [
              "<Figure size 360x216 with 4 Axes>"
            ]
          },
          "metadata": {
            "tags": []
          }
        },
        {
          "output_type": "stream",
          "text": [
            "example index: 2\n",
            "Columns: Original Digit; Digit 2 scores; Digit 5 scores; 2->5 masking scores;\n",
            "Order of the methods is: revealcancel, integrated_grads_10, deep_shap, kernel_shap\n"
          ],
          "name": "stdout"
        },
        {
          "output_type": "display_data",
          "data": {
            "image/png": "[encoded data removed]",
            "text/plain": [
              "<Figure size 360x216 with 4 Axes>"
            ]
          },
          "metadata": {
            "tags": []
          }
        },
        {
          "output_type": "display_data",
          "data": {
            "image/png": "[encoded data removed]",
            "text/plain": [
              "<Figure size 360x216 with 4 Axes>"
            ]
          },
          "metadata": {
            "tags": []
          }
        },
        {
          "output_type": "display_data",
          "data": {
            "image/png": "[encoded data removed]",
            "text/plain": [
              "<Figure size 360x216 with 4 Axes>"
            ]
          },
          "metadata": {
            "tags": []
          }
        },
        {
          "output_type": "display_data",
          "data": {
            "image/png": "[encoded data removed]",
            "text/plain": [
              "<Figure size 360x216 with 4 Axes>"
            ]
          },
          "metadata": {
            "tags": []
          }
        },
        {
          "output_type": "stream",
          "text": [
            "example index: 3\n",
            "Columns: Original Digit; Digit 6 scores; Digit 8 scores; 6->8 masking scores;\n",
            "Order of the methods is: revealcancel, integrated_grads_10, deep_shap, kernel_shap\n"
          ],
          "name": "stdout"
        },
        {
          "output_type": "display_data",
          "data": {
            "image/png": "[encoded data removed]",
            "text/plain": [
              "<Figure size 360x216 with 4 Axes>"
            ]
          },
          "metadata": {
            "tags": []
          }
        },
        {
          "output_type": "display_data",
          "data": {
            "image/png": "[encoded data removed]",
            "text/plain": [
              "<Figure size 360x216 with 4 Axes>"
            ]
          },
          "metadata": {
            "tags": []
          }
        },
        {
          "output_type": "display_data",
          "data": {
            "image/png": "[encoded data removed]",
            "text/plain": [
              "<Figure size 360x216 with 4 Axes>"
            ]
          },
          "metadata": {
            "tags": []
          }
        },
        {
          "output_type": "display_data",
          "data": {
            "image/png": "[encoded data removed]",
            "text/plain": [
              "<Figure size 360x216 with 4 Axes>"
            ]
          },
          "metadata": {
            "tags": []
          }
        },
        {
          "output_type": "stream",
          "text": [
            "example index: 4\n",
            "Columns: Original Digit; Digit 9 scores; Digit 4 scores; 9->4 masking scores;\n",
            "Order of the methods is: revealcancel, integrated_grads_10, deep_shap, kernel_shap\n"
          ],
          "name": "stdout"
        },
        {
          "output_type": "display_data",
          "data": {
            "image/png": "[encoded data removed]",
            "text/plain": [
              "<Figure size 360x216 with 4 Axes>"
            ]
          },
          "metadata": {
            "tags": []
          }
        },
        {
          "output_type": "display_data",
          "data": {
            "image/png": "[encoded data removed]",
            "text/plain": [
              "<Figure size 360x216 with 4 Axes>"
            ]
          },
          "metadata": {
            "tags": []
          }
        },
        {
          "output_type": "display_data",
          "data": {
            "image/png": "[encoded data removed]",
            "text/plain": [
              "<Figure size 360x216 with 4 Axes>"
            ]
          },
          "metadata": {
            "tags": []
          }
        },
        {
          "output_type": "display_data",
          "data": {
            "image/png": "[encoded data removed]",
            "text/plain": [
              "<Figure size 360x216 with 4 Axes>"
            ]
          },
          "metadata": {
            "tags": []
          }
        }
      ]
    },
    {
      "cell_type": "code",
      "metadata": {
        "id": "X29qe8t11DIb"
      },
      "source": [
        "def compute_delta_log_odds(X, y, method_name, predict_func, imp_scores,\n",
        "                           original_class, target_class,\n",
        "                           num_perturbations):\n",
        "    ''''original class mask is the numpy mask (True/False) for original class, obtained from the labels'''\n",
        "    # original_class_mask = ry_test == original_class\n",
        "    original_class_mask = y==original_class\n",
        "\n",
        "    '''selects training data based on the mask -> np.compress'''\n",
        "    X = np.compress(condition=original_class_mask, a=X, axis=0)\n",
        "    X_pt = np.swapaxes(np.swapaxes(X, 1, -1), 2, -1)\n",
        "    X_pt = torch.from_numpy(X_pt).float().to(device)\n",
        "\n",
        "    \"\"\"predictions: using the original test image\"\"\"\n",
        "    # compute log-odds of model for those two classes (predict function is \"pre_softmax\", i.e., outputs before feeding to softmax)\n",
        "    ''' What if I change the predict function to a function that return the same from pytorch?'''\n",
        "\n",
        "    if method_name in ['revealcancel', 'integrated_grads_10']:\n",
        "        predictions = np.array(deeplift.util.run_function_in_batches(predict_func,\n",
        "                                                                     input_data_list=[\n",
        "                                                                         X],\n",
        "                                                                     batch_size=X.shape[0], progress_update=None))   # orig batch_size = 200\n",
        "        orig_log_odds = predictions[:, original_class] - \\\n",
        "            predictions[:, target_class]\n",
        "    elif method_name == 'deep_shap':\n",
        "        with torch.no_grad():\n",
        "            predictions = pt_model(X_pt).cpu().detach().numpy()\n",
        "        orig_log_odds = np.log(\n",
        "            predictions[:, original_class] / predictions[:, target_class])\n",
        "    elif method_name == 'kernel_shap':\n",
        "        predictions = keras_model.predict(X)\n",
        "        orig_log_odds = np.log(\n",
        "            predictions[:, original_class] / predictions[:, target_class])\n",
        "\n",
        "    # make num_perturbations to move from original_class\n",
        "    # to target_class according to imp_scores\n",
        "    # first, get the difference of imp_scores for the two classes\n",
        "\n",
        "    diff_of_scores = (np.compress(original_class_mask, imp_scores[original_class].reshape((-1, 784)), axis=0) -\n",
        "                      np.compress(original_class_mask, imp_scores[target_class].reshape((-1, 784)), axis=0))\n",
        "    modified_inp = []\n",
        "\n",
        "    \"\"\"This is the masking -> 0-mask for MNIST\"\"\"\n",
        "    \"\"\"modified_inp -> list of masked images\"\"\"\n",
        "\n",
        "    for inp, diff_of_scores in zip(X, diff_of_scores):\n",
        "        top_nth_threshold = max(\n",
        "            sorted(diff_of_scores, key=lambda x: -x)[num_perturbations], 0.0)\n",
        "        thresholded_points = 1.0*(diff_of_scores <= top_nth_threshold)\n",
        "        modified_inp.append(thresholded_points.reshape(28, 28, 1)*inp)\n",
        "    modified_inp = np.array(modified_inp)\n",
        "\n",
        "    if method_name == 'deep_shap':\n",
        "        modified_inp = np.swapaxes(np.swapaxes(modified_inp, 1, -1), 2, -1)\n",
        "        modified_inp = torch.from_numpy(modified_inp).float().to(device)\n",
        "\n",
        "    \"\"\"new_predictions: for the masked images, using trained classifier\"\"\"\n",
        "    # assess change in log-odds for the modified images\n",
        "    if method_name in ['revealcancel', 'integrated_grads_10']:\n",
        "        new_predictions = np.array(deeplift.util.run_function_in_batches(predict_func,\n",
        "                                                                         input_data_list=[\n",
        "                                                                             modified_inp],\n",
        "                                                                         batch_size=X.shape[0], progress_update=None))   # orig batch_size = 200\n",
        "        new_log_odds = new_predictions[:, original_class] - \\\n",
        "            new_predictions[:, target_class]\n",
        "\n",
        "    elif method_name == 'deep_shap':\n",
        "        with torch.no_grad():\n",
        "            new_predictions = pt_model(modified_inp).cpu().detach().numpy()\n",
        "        new_log_odds = np.log(\n",
        "            new_predictions[:, original_class] / new_predictions[:, target_class])\n",
        "        \n",
        "    elif method_name == 'kernel_shap':\n",
        "        new_predictions = keras_model.predict(modified_inp)\n",
        "        new_log_odds = np.log(\n",
        "            new_predictions[:, original_class] / new_predictions[:, target_class])\n",
        "\n",
        "    to_return = orig_log_odds - new_log_odds\n",
        "    return (to_return,\n",
        "            sum(new_log_odds < 0.0)/float(len(new_log_odds)),\n",
        "            new_predictions[:, [original_class, target_class]],\n",
        "            predictions[:, [original_class, target_class]])"
      ],
      "execution_count": null,
      "outputs": []
    },
    {
      "cell_type": "code",
      "metadata": {
        "id": "KES7LfNx72im"
      },
      "source": [
        "pre_softmax_func_inner = K.function([keras_model.input, K.learning_phase()],\n",
        "                                    [keras_model.layers[-2].output])\n",
        "\n",
        "\n",
        "def pre_softmax_func(x): return pre_softmax_func_inner(x+[False])[0]\n",
        "\n",
        "\n",
        "def barplot_scores(original_class, target_class, X_inp, y_inp, scoring_methods, scores, n_to_erase, ks_niter, save=False):\n",
        "    method_names = [x[0] for x in scoring_methods]\n",
        "    short_names = [x[1] for x in scoring_methods]\n",
        "    scores_to_plot = []\n",
        "    fig, ax = plt.subplots(figsize=(2*len(method_names), 5))\n",
        "    \"\"\"\n",
        "    logodds obtained here by calling compute_delta_log_odds.\n",
        "    - what is predict_func=pre_softmax_fuc ? -> linear layer prior to softmax\n",
        "    \"\"\"\n",
        "    for method_name in method_names:\n",
        "        logodds_diff, flipped, new_predictions, old_predictions = compute_delta_log_odds(\n",
        "            X=X_inp, y=y_inp,\n",
        "            method_name=method_name,\n",
        "            predict_func=pre_softmax_func,\n",
        "            imp_scores=scores['scores'][method_name],\n",
        "            original_class=original_class,\n",
        "            target_class=target_class,\n",
        "            num_perturbations=n_to_erase)\n",
        "        \n",
        "        scores_to_plot.append(logodds_diff)\n",
        "    ax.boxplot(scores_to_plot, widths=[\n",
        "               0.5 for x in method_names], showmeans=True, meanline=True)\n",
        "    # ax.set_ylim(-1000,17000)\n",
        "    ax.set_ylabel(\"Change in log-odds\")\n",
        "    ax.set_xticklabels(short_names)\n",
        "    plt.title(str(original_class)+\" --> \"+str(target_class), fontsize=24)\n",
        "    plt.tick_params(labelsize=17)\n",
        "    if save:\n",
        "        plt.savefig(f'{plots_path}/log_odds{len(SCORING_METHODS)}_{original_class}to{target_class}_{len(y_inp)}samp_ks_{int(ks_niter/1000)}k.png')\n",
        "    plt.show()"
      ],
      "execution_count": null,
      "outputs": []
    },
    {
      "cell_type": "code",
      "metadata": {
        "id": "hlJTFNj1NwSi"
      },
      "source": [
        "def subsample_barplot_scores(orig, tgt, scoring_methods, n_sample=30, ks_niter=5000, n_to_erase=157, save=False):\n",
        "    X_sample, y_sample = gen_random_label_subset(orig, n=n_sample)\n",
        "    method_scores = calculate_scores(X_sample, y_sample, k_shap_nsamples=ks_niter) # k_shap_nsamples = 50k in paper\n",
        "    barplot_scores(orig, tgt, X_sample, y_sample, SCORING_METHODS, method_scores, n_to_erase, ks_niter=ks_niter, save=save)"
      ],
      "execution_count": null,
      "outputs": []
    },
    {
      "cell_type": "code",
      "metadata": {
        "id": "vtrEBPmkY-cy",
        "colab": {
          "base_uri": "https://localhost:8080/",
          "height": 609,
          "referenced_widgets": [
            "f52f28e12ee7444e8545b54aab8a107b",
            "bd4ac676af31477cb15a8227b0f13f9d",
            "7761ba2d7ba9420cb2e52a07fdbf3b52",
            "78d9793ba1344914a4bf00ef6c5dac93",
            "9c407a7e7b444c3a94d54476f3dfb431",
            "a2b31242eb1c48b9ae94183c646fd34f",
            "e4037bc7670f44d7ba8de75f692bc316",
            "b26bff8979a64b2bbd8c2b6f66de7c52"
          ]
        },
        "outputId": "eed17d33-8dff-4c4a-9d01-a8ef43518d41"
      },
      "source": [
        "subsample_barplot_scores(8, 6, SCORING_METHODS, n_sample=50, ks_niter=50000, save=True)"
      ],
      "execution_count": null,
      "outputs": [
        {
          "output_type": "stream",
          "text": [
            "Computing scores for: revealcancel\n",
            "Time taken for revealcancel: 25.314s\n",
            "Computing scores for: integrated_grads_10\n",
            "Time taken for integrated_grads_10: 34.985s\n",
            "\n",
            " \n",
            " Computing scores for DeepSHAP:\n",
            "Time taken for deep_shap: 2.594s\n",
            "\n",
            " \n",
            " Computing scores for: KernelSHAP:\n"
          ],
          "name": "stdout"
        },
        {
          "output_type": "display_data",
          "data": {
            "application/vnd.jupyter.widget-view+json": {
              "model_id": "f52f28e12ee7444e8545b54aab8a107b",
              "version_minor": 0,
              "version_major": 2
            },
            "text/plain": [
              "HBox(children=(FloatProgress(value=0.0, max=50.0), HTML(value='')))"
            ]
          },
          "metadata": {
            "tags": []
          }
        },
        {
          "output_type": "stream",
          "text": [
            "\n",
            "Time taken for kernel_shap: 570.023s\n"
          ],
          "name": "stdout"
        },
        {
          "output_type": "display_data",
          "data": {
            "image/png": "[encoded data removed]",
            "text/plain": [
              "<Figure size 576x360 with 1 Axes>"
            ]
          },
          "metadata": {
            "tags": [],
            "needs_background": "light"
          }
        }
      ]
    },
    {
      "cell_type": "markdown",
      "metadata": {
        "id": "z8QNHpvmG3k0"
      },
      "source": [
        "Erasing"
      ]
    },
    {
      "cell_type": "code",
      "metadata": {
        "id": "6UEYHnXjhXI_",
        "colab": {
          "base_uri": "https://localhost:8080/",
          "height": 609,
          "referenced_widgets": [
            "100b5a216446412ab8baf4a64b621d46",
            "aaa43b592fcd486c83d372ce3df33888",
            "335f39b41afb478fa821bef65acced7f",
            "9bd88ae8bc7641fcabe54a98a672a069",
            "cc5e31056e314b7e87e12f37141e7659",
            "685da88593114280a499f28f11efdc12",
            "39413b5eb151457d8c7a95fbb9996b3c",
            "605f44c9bbf1477385eaf2339227d588"
          ]
        },
        "outputId": "5d898a01-4a67-4a66-9821-fa75bf5fb68d"
      },
      "source": [
        "subsample_barplot_scores(8, 3, SCORING_METHODS, n_sample=50, ks_niter=50000, save=True)"
      ],
      "execution_count": null,
      "outputs": [
        {
          "output_type": "stream",
          "text": [
            "Computing scores for: revealcancel\n",
            "Time taken for revealcancel: 26.456s\n",
            "Computing scores for: integrated_grads_10\n",
            "Time taken for integrated_grads_10: 37.073s\n",
            "\n",
            " \n",
            " Computing scores for DeepSHAP:\n",
            "Time taken for deep_shap: 2.613s\n",
            "\n",
            " \n",
            " Computing scores for: KernelSHAP:\n"
          ],
          "name": "stdout"
        },
        {
          "output_type": "display_data",
          "data": {
            "application/vnd.jupyter.widget-view+json": {
              "model_id": "100b5a216446412ab8baf4a64b621d46",
              "version_minor": 0,
              "version_major": 2
            },
            "text/plain": [
              "HBox(children=(FloatProgress(value=0.0, max=50.0), HTML(value='')))"
            ]
          },
          "metadata": {
            "tags": []
          }
        },
        {
          "output_type": "stream",
          "text": [
            "\n",
            "Time taken for kernel_shap: 583.290s\n"
          ],
          "name": "stdout"
        },
        {
          "output_type": "display_data",
          "data": {
            "image/png": "[encoded data removed]",
            "text/plain": [
              "<Figure size 576x360 with 1 Axes>"
            ]
          },
          "metadata": {
            "tags": [],
            "needs_background": "light"
          }
        }
      ]
    },
    {
      "cell_type": "code",
      "metadata": {
        "id": "GfsGH3u5EprY",
        "colab": {
          "base_uri": "https://localhost:8080/",
          "height": 609,
          "referenced_widgets": [
            "5e323cb2675d4741abeaf68f9a9016fa",
            "498ce6ca9b2744e19bd866996abdfc0b",
            "4e1d446aa3df443d913fca5d3434a25f",
            "d8082682195a447a9d1bd900af207cb3",
            "553b20d410bc483d9ef0ec89c25b0bf3",
            "818ef0c5405049129080d68a641a312c",
            "245bad1525e043a08a73d7450dc7bd2b",
            "ca2981eb8b1a4d2f9dbfc86b21e3b4ce"
          ]
        },
        "outputId": "e71212c0-99f1-440f-95d4-3dce72ea66cc"
      },
      "source": [
        "subsample_barplot_scores(8, 0, SCORING_METHODS, n_sample=50, ks_niter=50000, save=True)"
      ],
      "execution_count": null,
      "outputs": [
        {
          "output_type": "stream",
          "text": [
            "Computing scores for: revealcancel\n",
            "Time taken for revealcancel: 6.454s\n",
            "Computing scores for: integrated_grads_10\n",
            "Time taken for integrated_grads_10: 18.707s\n",
            "\n",
            " \n",
            " Computing scores for DeepSHAP:\n",
            "Time taken for deep_shap: 1.717s\n",
            "\n",
            " \n",
            " Computing scores for: KernelSHAP:\n"
          ],
          "name": "stdout"
        },
        {
          "output_type": "display_data",
          "data": {
            "application/vnd.jupyter.widget-view+json": {
              "model_id": "5e323cb2675d4741abeaf68f9a9016fa",
              "version_minor": 0,
              "version_major": 2
            },
            "text/plain": [
              "HBox(children=(FloatProgress(value=0.0, max=50.0), HTML(value='')))"
            ]
          },
          "metadata": {
            "tags": []
          }
        },
        {
          "output_type": "stream",
          "text": [
            "\n",
            "Time taken for kernel_shap: 588.575s\n"
          ],
          "name": "stdout"
        },
        {
          "output_type": "display_data",
          "data": {
            "image/png": "[encoded data removed]",
            "text/plain": [
              "<Figure size 576x360 with 1 Axes>"
            ]
          },
          "metadata": {
            "tags": [],
            "needs_background": "light"
          }
        }
      ]
    },
    {
      "cell_type": "markdown",
      "metadata": {
        "id": "lDovCeVyG6-Q"
      },
      "source": [
        "Generating"
      ]
    },
    {
      "cell_type": "code",
      "metadata": {
        "colab": {
          "base_uri": "https://localhost:8080/",
          "height": 609,
          "referenced_widgets": [
            "708bf1d791df404d9318bd7fa2d810be",
            "7a6baf8c3948404f90f740100601fcb9",
            "aa4a48c3911e434a91ad957b02cb8c0e",
            "61f441914f7345f48ff04685afce9af3",
            "917641a67158435aafeb146f64e23be0",
            "db9e66be44c1452a856803cb998e59fa",
            "af29f884e53a4c0684d3b4b538b67bf3",
            "a584d4565e6f4558a9f97420f5b1fec5"
          ]
        },
        "id": "rLXsoZIyWYsW",
        "outputId": "69533bc2-372e-4a89-c742-859f459a63fa"
      },
      "source": [
        "subsample_barplot_scores(3, 8, SCORING_METHODS, n_sample=50, ks_niter=50000, save=True)"
      ],
      "execution_count": null,
      "outputs": [
        {
          "output_type": "stream",
          "text": [
            "Computing scores for: revealcancel\n",
            "Time taken for revealcancel: 27.071s\n",
            "Computing scores for: integrated_grads_10\n",
            "Time taken for integrated_grads_10: 37.180s\n",
            "\n",
            " \n",
            " Computing scores for DeepSHAP:\n",
            "Time taken for deep_shap: 2.742s\n",
            "\n",
            " \n",
            " Computing scores for: KernelSHAP:\n"
          ],
          "name": "stdout"
        },
        {
          "output_type": "display_data",
          "data": {
            "application/vnd.jupyter.widget-view+json": {
              "model_id": "708bf1d791df404d9318bd7fa2d810be",
              "version_minor": 0,
              "version_major": 2
            },
            "text/plain": [
              "HBox(children=(FloatProgress(value=0.0, max=50.0), HTML(value='')))"
            ]
          },
          "metadata": {
            "tags": []
          }
        },
        {
          "output_type": "stream",
          "text": [
            "\n",
            "Time taken for kernel_shap: 545.372s\n"
          ],
          "name": "stdout"
        },
        {
          "output_type": "display_data",
          "data": {
            "image/png": "[encoded data removed]",
            "text/plain": [
              "<Figure size 576x360 with 1 Axes>"
            ]
          },
          "metadata": {
            "tags": [],
            "needs_background": "light"
          }
        }
      ]
    },
    {
      "cell_type": "code",
      "metadata": {
        "id": "DZWU34FAl27Z"
      },
      "source": [
        ""
      ],
      "execution_count": null,
      "outputs": []
    },
    {
      "cell_type": "code",
      "metadata": {
        "id": "QPNIdocil24G"
      },
      "source": [
        ""
      ],
      "execution_count": null,
      "outputs": []
    },
    {
      "cell_type": "code",
      "metadata": {
        "id": "IEKKrPA_l2xY"
      },
      "source": [
        ""
      ],
      "execution_count": null,
      "outputs": []
    }
  ]
}